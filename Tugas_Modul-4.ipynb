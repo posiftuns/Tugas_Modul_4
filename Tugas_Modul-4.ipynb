{
 "cells": [
  {
   "cell_type": "markdown",
   "metadata": {},
   "source": [
    "***\n",
    "<h1 align=\"center\">Tugas 4 </h1>\n",
    " \n",
    "***"
   ]
  },
  {
   "cell_type": "markdown",
   "metadata": {},
   "source": [
    "Nama&nbsp;&nbsp;: ... <br>\n",
    "NIM&emsp;&nbsp;: ...<br>\n",
    "Kelas&nbsp;&nbsp;&nbsp;: ..."
   ]
  },
  {
   "cell_type": "markdown",
   "metadata": {},
   "source": [
    "## Mengerjakan Tugas\n",
    "Pada *file* **Jupyter Notebook** ini, kalian akan mengerjakan tugas terkait Modul 4, yaitu Struktur Pengulangan. Pengerjaan tugas dapat dilakukan dengan memperhatikan soal dan petunjuk yang sudah diberikan. Dimohon untuk membaca dan memperhatikan setiap kriteria soal supaya mampu mendapatkan hasil yang maksimal. Harap kerjakan tugas secara mandiri dan bersungguh-sungguh.\n",
    "\n",
    "Selamat mengerjakan!"
   ]
  },
  {
   "cell_type": "markdown",
   "metadata": {},
   "source": [
    "## SOAL 1\n"
   ]
  },
  {
   "cell_type": "markdown",
   "metadata": {},
   "source": [
    "Buatlah program laporan keuangan sederhana dengan kriteria sebagai berikut : \n",
    "- Program dapat menghitung total pengeluaran dan pemasukan perusahaan selama satu tahun.\n",
    "- Program yang akan anda bangun akan mengolah sebuah list yang bernama list_cash_flow (data sudah disediakan). \n",
    "\n",
    "- Setiap elemen dari list_cash_flow berisikan pengeluaran (bilangan negatif) dan pemasukan (bilangan positif) pada perusahaan.\n",
    "\n",
    "- Dari list_cash_flow ini, program akan menghitung total_pengeluaran dan total_pemasukan perusahaan. \n",
    "\n",
    "- Hitung Laba atau Rugi: Setelah menghitung total pengeluaran dan pemasukan, tambahkan perhitungan untuk menentukan apakah perusahaan mengalami laba atau rugi berdasarkan perbedaan antara total pemasukan dan total pengeluaran.\n",
    "\n"
   ]
  },
  {
   "cell_type": "raw",
   "metadata": {},
   "source": [
    "Lengkapi data cash flow dibawah dengan 3 digit terakhir NIM kalian !\n",
    "\n",
    "Data Cash Flow :\n",
    "Januari     = Rp. 1000000\n",
    "Februari    = - Rp. 1xxx000\n",
    "Maret       = Rp. xxx500000\n",
    "April       = -Rp. 1250xxx\n",
    "Mei         = -Rp. 25xxx000\n",
    "Juni        = Rp. xxx500000\n",
    "Juli        = -Rp. 666666666\n",
    "Agustus     = Rp. 123456xxx\n",
    "September   = Rp. 10xxx987\n",
    "Oktober     = -Rp. 222222222\n",
    "November    = Rp. 2231xxx00\n",
    "Desember    = Rp. 2000000"
   ]
  },
  {
   "cell_type": "raw",
   "metadata": {},
   "source": [
    "Output yang diharapkan jika perusahaan untung:\n",
    "\n",
    "-------------------------------------------------------- \n",
    "Laporan Keuangan \n",
    "-------------------------------------------------------- \n",
    "Total Pemasukan     : Rp. 2000000 \n",
    "Total Pengeluaran   : Rp. 1000000\n",
    "-------------------------------------------------------- \n",
    "Keterangan      : Perusahaan untung sebesar Rp. 1000000                          \n",
    "========================================================\n",
    "\n",
    "Output yang diharapkan jika perusahaan rugi: \n",
    "\n",
    "-------------------------------------------------------- \n",
    "Laporan Keuangan \n",
    "-------------------------------------------------------- \n",
    "Total Pemasukan     : Rp. 1000000 \n",
    "Total Pengeluaran   : Rp. 2500000\n",
    "-------------------------------------------------------- \n",
    "Keterangan      : Perusahaan rugi sebesar Rp. 1500000                          \n",
    "========================================================"
   ]
  },
  {
   "cell_type": "markdown",
   "metadata": {},
   "source": [
    "Jawaban :"
   ]
  },
  {
   "cell_type": "code",
   "execution_count": null,
   "metadata": {},
   "outputs": [],
   "source": [
    "# Buat kode program di sini\n",
    "\n"
   ]
  },
  {
   "cell_type": "markdown",
   "metadata": {},
   "source": [
    "## SOAL 2\n"
   ]
  },
  {
   "cell_type": "markdown",
   "metadata": {},
   "source": [
    "Buatlah program quiz tebak angka dengan kriteria sebagai berikut :\n",
    "- Tebak angka random yang telah digenerate progam dari 1 sampai xxx (3 digit NIM terakhir kalian + 5)  \n",
    "- Program dapat memberikan pesan mengenai angka tebakan anda salah, apakah terlalu rendah atau terlalu tinggi\n",
    "- Program dapat memberikan pesan jika tebakan anda benar\n",
    "- Asumsi input selalu integer "
   ]
  },
  {
   "cell_type": "raw",
   "metadata": {},
   "source": [
    "Output yang diharapkan :\n",
    "\n",
    "Selamat datang di permainan Tebak Angka!\n",
    "Saya telah memilih sebuah angka antara 1 dan 5. Cobalah menebaknya.\n",
    "-----------------------------------------------------------------------\n",
    "Masukkan Tebakan Anda :\n",
    "1\n",
    "Tebakan Anda terlalu rendah. Coba lagi.\n",
    "-----------------------------------------------------------------------\n",
    "Masukkan Tebakan Anda :\n",
    "3\n",
    "Tebakan Anda terlalu tinggi. Coba lagi.\n",
    "-----------------------------------------------------------------------\n",
    "Masukkan Tebakan Anda :\n",
    "2\n",
    "Tebakan Anda benar!"
   ]
  },
  {
   "cell_type": "markdown",
   "metadata": {},
   "source": [
    "Jawaban :"
   ]
  },
  {
   "cell_type": "code",
   "execution_count": null,
   "metadata": {},
   "outputs": [],
   "source": [
    "# JANGAN DIHAPUS\n",
    "import random \n",
    "answer = random.randint(1,...) # Isilah ... dengan 3 digit terakhir NIM kalian + 5!\n",
    "\n",
    "# Buat kode program di sini\n",
    "\n",
    "\n",
    "\n"
   ]
  },
  {
   "cell_type": "markdown",
   "metadata": {},
   "source": [
    "## SOAL 3\n"
   ]
  },
  {
   "cell_type": "markdown",
   "metadata": {},
   "source": [
    "Jalankan program untuk membuat pola segitiga siku-siku dibawah ini !"
   ]
  },
  {
   "cell_type": "code",
   "execution_count": null,
   "metadata": {},
   "outputs": [],
   "source": [
    "# Buat kode program di sini\n",
    "tinggi = 5                      # Baris 1\n",
    "print(\"Segitiga siku-siku:\")    # Baris 2\n",
    "for i in range(1, tinggi + 1):  # Baris 3\n",
    "    for j in range(i):          # Baris 4\n",
    "        print(\"*\", end=\" \")     # Baris 5\n",
    "    print()                     # Baris 6\n"
   ]
  },
  {
   "cell_type": "markdown",
   "metadata": {},
   "source": [
    "Apa jenis loop/iterasi/perulangan yang digunakan dalam program tersebut? <br> Jelaskan dari tiap baris kode program tersebut sepemahaman anda secara singkat !"
   ]
  },
  {
   "cell_type": "markdown",
   "metadata": {},
   "source": [
    "Jawaban :"
   ]
  },
  {
   "cell_type": "markdown",
   "metadata": {},
   "source": [
    "\n",
    "Jenis iterasi/perulangan tersebut adalah ... <br>\n",
    "<br>\n",
    "Penjelasan kode tiap baris.<br>\n",
    "Baris 1 : ... <br>\n",
    "Baris 2 : ... <br>\n",
    "Baris 3 : ... <br>\n",
    "Baris 4 : ... <br>\n",
    "Baris 5 : ... <br>\n",
    "Baris 6 : ... <br>"
   ]
  },
  {
   "cell_type": "markdown",
   "metadata": {},
   "source": [
    "## SOAL 4\n"
   ]
  },
  {
   "cell_type": "markdown",
   "metadata": {},
   "source": [
    "Menurut anda, kapan sebaiknya kita menggunakan perulangan \"for\" dan perulangan \"while\" ? Jelaskan dengan permisalan atau contoh kasus sederhana."
   ]
  },
  {
   "cell_type": "markdown",
   "metadata": {},
   "source": [
    "Jawaban : ..."
   ]
  },
  {
   "cell_type": "markdown",
   "metadata": {},
   "source": [
    "***\n",
    "<h1 align=\"center\">Selamat Mengerjakan!</h1>\n",
    " \n",
    "***"
   ]
  }
 ],
 "metadata": {
  "kernelspec": {
   "display_name": "Python 3",
   "language": "python",
   "name": "python3"
  },
  "language_info": {
   "codemirror_mode": {
    "name": "ipython",
    "version": 3
   },
   "file_extension": ".py",
   "mimetype": "text/x-python",
   "name": "python",
   "nbconvert_exporter": "python",
   "pygments_lexer": "ipython3",
   "version": "3.12.2"
  }
 },
 "nbformat": 4,
 "nbformat_minor": 2
}
